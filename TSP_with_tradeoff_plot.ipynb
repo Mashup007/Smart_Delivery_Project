using Graphs, NamedArrays, Clp, Combinatorics, Gurobi, JuMP, PyPlot

#################Generate map####################
seed = srand(42453)

# Parameters
latitude = 8
longtitude = 8
density = 0.2
time_length = 200
max_tip = 10
# ------------

vertical = 1
horizontal = 2

c = zeros(latitude, longtitude)  # Mark all nodes as normal nodes
time = zeros(latitude, longtitude)
cost = 2*time_length*ones(latitude, longtitude, 2)

tips = zeros(latitude, longtitude)

R = (ceil(Int64, rand() * latitude), ceil(Int64, rand() * longtitude))
c[R[1], R[2]] = 2 #generating Restaurant
customer_number = 0

while customer_number < ceil(density * latitude * longtitude)
    xx = ceil(Int64, rand() * latitude)
    yy = ceil(Int64, rand() * longtitude)
    if c[xx, yy] == 0
        c[xx, yy] = 1
        time[xx, yy] = ceil(rand() * time_length);
        tips[xx, yy] = ceil(rand() * max_tip);
        customer_number = customer_number + 1
    end
end

customer_n = 0
paths = 1
dists = Array{Int64}((longtitude-1)*latitude + longtitude*(latitude-1))
#customer = Array{Tuple(Int64, Int64)}(latitude*longtitude*density)
restaurant = 1
customer = Array{Int64}(ceil(Int64,longtitude*latitude*density))
tip = Array{Int64}(ceil(Int64,longtitude*latitude*density))
deadline = Array{Int64}(ceil(Int64,longtitude*latitude*density))

g = simple_inclist(latitude*longtitude, is_directed=false)

#add vertex and edge according to the map index.
for i in 1:latitude
    for j in 1:longtitude
        if c[i, j] == 1
            customer_n = customer_n + 1
            customer[customer_n] = (i-1)*longtitude+j
            tip[customer_n] = tips[i, j]
            deadline[customer_n] = time[i, j]
        end
        if c[i, j] == 2
            restaurant = (i-1)*longtitude+j
        end
        if i != latitude #generate the cost of each legal route
            cost[i, j, vertical] = ceil(Int64, rand() * time_length/(latitude*longtitude)*((1-density).^2))
            add_edge!(g, (i-1)*longtitude + j, i*longtitude + j)
            dists[paths] = cost[i, j, vertical]
            paths = paths + 1
        end
        if j != longtitude
            cost[i, j, horizontal] = ceil(Int64, rand() * time_length/(latitude*longtitude)*((1-density).^2))
            add_edge!(g, (i-1)*longtitude + j, (i-1)*longtitude + j + 1)
            dists[paths] = cost[i, j, horizontal]
            paths = paths + 1
        end
    end
end

@printf("cost graph of the map:")
customer_number = 1
colors = [] # restaurant-r  customer-g others-b

for i in 1:latitude
    if i != 1
        for j in 1:longtitude
            @printf("%2.d      ", cost[i-1, j, vertical])
        end
    end
    @printf("\n\n")
    for j in 1:longtitude
        if c[i, j] == 1
            push!(colors,"g")
            @printf(" C%d  ",customer_number)
            customer_number = customer_number + 1
        end
        if c[i, j] == 2
            push!(colors,"r")
            @printf(" R  ")
        end
        if c[i, j] == 0
            push!(colors,"b")
            @printf(" 0  ")
        end
        if j != longtitude
            @printf("%2.d  ", cost[i, j, horizontal]);
        end
    end
    @printf("\n\n")
end


#restaurant is saved at index customer_n+1
#distance_matrix = zeros(customer_n + 1, customer_n + 1)
#customer[customer_n+1] = restaurant

#for i = 1:customer_n+1
#    for j = 1:customer_n+1
#        path = dijkstra_shortest_paths(g, dists, customer[i])
#    end
#end

# generate random order starting from restaurant
nodes = [restaurant; customer]
N = length(nodes)
random_order = randperm(N-1)+1

desired_order = Dict()
desired_order[nodes[1]] = 1
for i = 2 : N
    desired_order[nodes[i]] = random_order[i-1]
end

#println("my desired_order:")
#for (pp,qq) in desired_order
#    println("$pp-> $qq")
#end
function printOrder(nodes, desired_order)
    order = 1
    for i = 1 : N
        for j = 1 : N
            cur_order = desired_order[nodes[j]]
            if(cur_order == order)
                if(i < N)
                    print(nodes[j],"->")
                else
                    print(nodes[j])
                    println()
                end
                order = order + 1
                break
            end
        end
    end
end
println("desired_order: ")
printOrder(nodes, desired_order)

#plot graph
function plotGraph(latitude, longtitude, restaurant, customer,scale)
    x_coords = zeros(1, latitude*longtitude)
    y_coords = zeros(1, latitude*longtitude)
    # plot nodes
    for i  = 1 : latitude
        for j = 1 : longtitude
            y_coords[ (i-1)*latitude + j] = -1*scale*i
            x_coords[ (i-1)*latitude + j] = scale*j
        end
    end

    figure(figsize=(10,8))
    # plot horizontal edge
    for i = 1 : latitude
        for j = 1 : longtitude-1
            PyPlot.plot( [ x_coords[(i-1)*latitude+j], x_coords[(i-1)*latitude+j+1] ], [ y_coords[(i-1)*latitude+j], y_coords[(i-1)*latitude+j+1] ],"b--")
        end
    end

    #plot vertical edge
    for j = 1 : longtitude
        for i = 1 : latitude-1
            PyPlot.plot([x_coords[(i-1)*latitude+j], x_coords[(i)*latitude+j] ],[y_coords[(i-1)*latitude+j], y_coords[(i)*latitude+j]], "b--"  )
        end
    end


    gs = scatter(x_coords,y_coords,color=colors, s=100)
    # plot annotate

    annotate("R", (x_coords[restaurant]+(scale/8), y_coords[restaurant]-(scale/4)))
    for i = 1 : length(customer)
        cur = customer[i]
        annotate("C$i", (x_coords[cur]+(scale/8), y_coords[cur]-(scale/4)))
    end
    
    for i  = 1 : latitude
        for j = 1 : longtitude
            annotate((i-1)*latitude + j, (x_coords[(i-1)*latitude + j]+(scale/8), y_coords[(i-1)*latitude + j]+(scale/8)))
        end
    end
end

plotGraph(latitude, longtitude, restaurant, customer, 8)

#################################################

# first is restaurant. Remaining is customer
lambda = 1

function optimal_route_tsp(g, dists, nodes, desired_order, lambda, option)
    sites = 1:length(nodes)
    N = length(sites)
    trip_cost = zeros(length(nodes),length(nodes))

    for i = 1 : length(nodes)
        shortest_paths = dijkstra_shortest_paths(g, dists, nodes[i])
        for j = 1 : length(nodes)
            trip_cost[i,j] = shortest_paths.dists[nodes[j]]
        end
    end

    site_to_node = Dict()

    for i = 1 : N
        site_to_node[i] = nodes[i]
    end

    order = Dict()
    for i = 1 : N
        order[sites[i]] = desired_order[nodes[sites[i]]]
    end
    
    if option == "dist_vs_order"
        m = Model(solver = GurobiSolver(OutputFlag=0))

        @variable(m, x[sites,sites] >= 0, Bin)   # must formulate as IP this time

        @constraint(m, c1[j in sites], sum( x[i,j] for i in sites ) == 1)      # one out-edge
        @constraint(m, c2[i in sites], sum( x[i,j] for j in sites ) == 1)      # one in-edge
        @constraint(m, c3[i in sites], x[i,i] == 0 )                            # no self-loops
        @constraint(m, c4[j in sites], sum( x[i,j] for i in sites ) == sum( x[j,k] for k in sites ))      # one out-edge

        # MTZ variables and constraints
        @variable(m, new_order[sites] >=1, Int)
        @constraint(m, c5[i in sites, j in sites[2:end]], new_order[i] - new_order[j] + N*x[i,j] <= N-1 )

        # trade off of tips loss
        @variable(m, order_diff[sites])
        @variable(m, L1_order[sites] >=0)
        @variable(m, total_trip_cost >=0)

        @constraint(m, c6[i in sites], order_diff[i] == new_order[i] - order[i])
        @constraint(m, c7[i in sites], L1_order[i] >= order_diff[i])
        @constraint(m, c8[i in sites], L1_order[i] >= - order_diff[i])
        @constraint(m, total_trip_cost == sum(x[i,j] * trip_cost[i,j] for i in sites, j in sites))

        @objective(m, Min, total_trip_cost + lambda * sum(L1_order))   # minimize total cost

        status = solve(m)
        
        optimal_order_tsp = []
        # get optimal order
        #for i in sites
        #    push!(optimal_order_tsp, site_to_node[ getvalue(new_order[i])] )
        #end

        next = 1
        push!(optimal_order_tsp,site_to_node[next])
        for i = 1:length(sites)-1
            # println("i = ", i)
            for j = 1:length(sites)
                # println("j = ", j)
                if getvalue(x[sites[next],sites[j]]) == 1
                    push!(optimal_order_tsp,site_to_node[j])
                    next = j
                    break
                end
            end
        end
        push!(optimal_order_tsp, site_to_node[1])

        #get optimal detailed order
        optimal_routes_detail_tsp = []
        for i = 1 : length(optimal_order_tsp)
            if i < length(optimal_order_tsp)
                cur_node = optimal_order_tsp[i]
                next_node = optimal_order_tsp[i+1]
                # obtain the specific traverse order in the shortest path recorded in Dijkstra's Algorithm
                shortest_path = dijkstra_shortest_paths(g, dists,cur_node)
                paths = enumerate_paths(vertices(g),shortest_path.parent_indices)
                if (length(optimal_routes_detail_tsp) == 0)
                    optimal_routes_detail_tsp = paths[next_node]
                else
                    optimal_routes_detail_tsp = [optimal_routes_detail_tsp ; paths[next_node][2:end]]
                end
            end
        end
        return (optimal_order_tsp, optimal_routes_detail_tsp, getobjectivevalue(m), getvalue(total_trip_cost), getvalue(sum(L1_order)))
    elseif option == "dist"
         m = Model(solver = GurobiSolver(OutputFlag=0))

        @variable(m, x[sites,sites] >= 0, Bin)   # must formulate as IP this time

        @constraint(m, c1[j in sites], sum( x[i,j] for i in sites ) == 1)      # one out-edge
        @constraint(m, c2[i in sites], sum( x[i,j] for j in sites ) == 1)      # one in-edge
        @constraint(m, c3[i in sites], x[i,i] == 0 )                            # no self-loops
        @constraint(m, c4[j in sites], sum( x[i,j] for i in sites ) == sum( x[j,k] for k in sites ))

        # MTZ variables and constraints
        @variable(m, new_order[sites] >=1, Int)
        @constraint(m, c5[i in sites, j in sites[2:end]], new_order[i] - new_order[j] + N*x[i,j] <= N-1 )


        @objective(m, Min, sum(x[i,j] * trip_cost[i,j] for i in sites, j in sites))   # minimize total cost

        status = solve(m)
        optimal_order_tsp = []
        # get optimal order
        #for i in sites
        #    push!(optimal_order_tsp, site_to_node[ getvalue(new_order[i])] )
        #end

        next = 1
        push!(optimal_order_tsp,site_to_node[next])
        for i = 1:length(sites)-1
            # println("i = ", i)
            for j = 1:length(sites)
                # println("j = ", j)
                if getvalue(x[sites[next],sites[j]]) == 1
                    push!(optimal_order_tsp,site_to_node[j])
                    next = j
                    break
                end
            end
        end
        push!(optimal_order_tsp, site_to_node[1])

        #get optimal detailed order
        optimal_routes_detail_tsp = []
        for i = 1 : length(optimal_order_tsp)
            if i < length(optimal_order_tsp)
                cur_node = optimal_order_tsp[i]
                next_node = optimal_order_tsp[i+1]
                # obtain the specific traverse order in the shortest path recorded in Dijkstra's Algorithm
                shortest_path = dijkstra_shortest_paths(g, dists,cur_node)
                paths = enumerate_paths(vertices(g),shortest_path.parent_indices)
                if (length(optimal_routes_detail_tsp) == 0)
                    optimal_routes_detail_tsp = paths[next_node]
                else
                    optimal_routes_detail_tsp = [optimal_routes_detail_tsp ; paths[next_node][2:end]]
                end
            end
        end
        return (optimal_order_tsp, optimal_routes_detail_tsp, getobjectivevalue(m), 0, 0)
    else
        println("Should not happen");
        return
    end
    
end


(oo_tsp,rt_tsp,toc,tc,oc) =  optimal_route_tsp(g, dists, nodes, desired_order,lambda, "dist_vs_order")
println()
println("Tour Trip cost: ", round(getvalue(total_trip_cost),4))
println("order_cost;", getvalue(sum(L1_order)))
println("\lambda = ", lambda)
println("Total cost: ", round(getobjectivevalue(m),4))
#(oo_tsp,rt_tsp,total_cost,trip_cost,order_cost) =  optimal_route_tsp(g, dists, nodes, desired_order,0.001, "dist")

################### plot route ################
function plotRoute(latitude, longtitude, restaurant, customer, scale, optimal_routes_detail_tsp)
    hold(false)
    x_coords = zeros(1, latitude*longtitude)
    y_coords = zeros(1, latitude*longtitude)
    # plot nodes
    for i  = 1 : latitude
        for j = 1 : longtitude
            y_coords[ (i-1)*latitude + j] = -1*5*i
            x_coords[ (i-1)*latitude + j] = 5*j
        end
    end
    figure(figsize=(10,8))
    g1 = scatter(x_coords,y_coords,color=colors, s=100)
    for i = 1 : length(optimal_routes_detail_tsp)-1
        cur = optimal_routes_detail_tsp[i]
        next = optimal_routes_detail_tsp[i+1]
        PyPlot.arrow( x_coords[cur], y_coords[cur], x_coords[next]-x_coords[cur] ,y_coords[next]-y_coords[cur], head_width=0.3, length_includes_head=true,color="Maroon")
    end
end

plotRoute(latitude, longtitude, restaurant, customer, 8, optimal_routes_detail_tsp)
######################Tradeoff ###################
# option can be "dist_vs_order" or "dist"
lmd = [0.05, 0.1,0.5,1,5,10,20,40,80,150,300,500,700,1000,1500,3000,5000]
trip_cost = zeros(1,length(lmd))
order_cost = zeros(1,length(lmd))
totol_cost = zeros(1,length(lmd))
for i  = 1 : length(lmd)
    (oo_tsp,rt_tsp,toc,tc,oc) =  optimal_route_tsp(g, dists, nodes, desired_order,lmd[i], "dist_vs_order")
    trip_cost[i] = tc
    order_cost[i] = oc
    totol_cost[i] = toc
end
println("trip_cost",trip_cost)
println("order_cost",order_cost)

figure(figsize=(12,4))
p1 = PyPlot.plot(order_cost[:], trip_cost[:],"b*-")
ylabel("distance")
xlabel("order difference")
title("Pareto curve")
grid()
