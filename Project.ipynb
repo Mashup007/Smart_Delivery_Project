





using Graphs, NamedArrays

seed = srand(42453)

# Parameters
latitude = 5
longtitude = 5
density = 0.1
time_length = 200
max_tip = 10
# ------------

vertical = 1
horizontal = 2

c = zeros(latitude, longtitude)  # Mark all nodes as normal nodes
time = zeros(latitude, longtitude)
cost = 2*time_length*ones(latitude, longtitude, 2)
#cost[i][j][vertical] --> the cost from (i, j) to (i+1, j)
#cost[i][j][horizontal] --> the cost from (i, j) to (i, j+1)

tips = zeros(latitude, longtitude)

R = (ceil(Int64, rand() * latitude), ceil(Int64, rand() * longtitude))
c[R[1], R[2]] = 2 #generating Restaurant
customer_number = 0

while customer_number < ceil(density * latitude * longtitude)
    xx = ceil(Int64, rand() * latitude)
    yy = ceil(Int64, rand() * longtitude)
    if c[xx, yy] == 0
        c[xx, yy] = 1
        time[xx, yy] = ceil(rand() * time_length);
        tips[xx, yy] = ceil(rand() * max_tip);
        customer_number = customer_number + 1
    end
end

customer_n = 0
paths = 1
dists = Array{Int64}((longtitude-1)*latitude + longtitude*(latitude-1))
#customer = Array{Tuple(Int64, Int64)}(latitude*longtitude*density)

customer = Array{Int64}(ceil(Int64,longtitude*latitude*density))

g = simple_inclist(latitude*longtitude)

for i in 1:latitude
    for j in 1:longtitude
        if c[i, j] == 1
            customer_n = customer_n + 1
            customer[customer_n] = (i-1)*longtitude+j
        end
        if i != latitude #generate the cost of each legal route
            cost[i, j, vertical] = ceil(Int64, rand() * time_length/(latitude*longtitude)*((1-density).^2))
            add_edge!(g, (i-1)*longtitude + j, i*longtitude + j)
            dists[paths] = cost[i, j, vertical]
            paths = paths + 1
        end
        if j != longtitude
            cost[i, j, horizontal] = ceil(Int64, rand() * time_length/(latitude*longtitude)*((1-density).^2))
            add_edge!(g, (i-1)*longtitude + j, (i-1)*longtitude + j + 1)
            dists[paths] = cost[i, j, horizontal]
            paths = paths + 1
        end
    end
end

display(dists)
r_paths = dijkstra_shortest_paths(g, dists, (R[1] - 1) * longtitude + R[2])



c_paths = Dict()

for i in 1:customer_n
    #display(r_paths.parent_indices)
    display(enumerate_indices(r_paths.parent_indices, customer[i]))
    
    c_paths[i] = dijkstra_shortest_paths(g, dists, customer[i])
end



@printf("cost graph of the map:")

for i in 1:latitude
    if i != 1
        for j in 1:longtitude
            @printf("%2.d      ", cost[i-1, j, vertical])
        end
    end
    @printf("\n\n")
    for j in 1:longtitude
        if c[i, j] == 1
            @printf(" C  ")
        end
        if c[i, j] == 2

            @printf(" R  ")
        end
        if c[i, j] == 0
            @printf(" 0  ")
        end
        if j != longtitude
            @printf("%2.d  ", cost[i, j, horizontal]);
        end
    end
    @printf("\n\n")
end

