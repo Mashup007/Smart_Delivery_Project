{
 "cells": [
  {
   "cell_type": "markdown",
   "metadata": {},
   "source": [
    "# CS/ECE/ISyE 524 &mdash; Introduction to Optimization &mdash; Summer 2018 ###\n",
    "\n",
    "# Using Optimization for Smart Delivery #\n",
    "\n",
    "#### Lin Qi (lqi3@wisc.edu), Jianwei Ke (jke9@wisc.edu), Yuhan Xie (xie75@wisc.edu), Zidong Zhang (zzhang773@wisc.edu), and Jingyao Wei (jwei44@wisc.edu)\n",
    "\n",
    "## Table of Contents\n",
    "\n",
    "1. [Introduction](#1.-Introduction)\n",
    "1. [Mathematical Model](#2.-Mathematical-model)\n",
    "    1. [Brute force](#2.A.-Brute-force-example) \n",
    "    1. [Vehicel routing](2.B.-Vehicel-routing-example)\n",
    "    1. [Traveling salesman problem](#2.C.-Traveling-salesman-problem)\n",
    "1. [Solution](#3.-Solution)\n",
    "    1. [Implementation for brute froce](#3.A.-implementation for 2.A)\n",
    "    1. [Implementation for vehicel routing](#3.B.-implementation for 2.B)\n",
    "    1. [Implementation for TSP](#3.C.-implementation for 2.C)\n",
    "1. [Results and Discussion](#4.-Results-and-discussion)\n",
    "1. [Conclusion](#5.-Conclusion)"
   ]
  },
  {
   "cell_type": "markdown",
   "metadata": {},
   "source": [
    "## 1. Introduction ##\n",
    "    \n",
    "As technology advances, the food industry constantly works on innovating to keep customers having the best qualities and convenience. Expected food quality, the restaurant industry more and more tends to focus on or how to make customer service more convenient dining. With the rise of delivery options and online platforms, ordering and getting food has become a mainstream form. In 2017, Rafi Cohen shows that a vast majority of millennials (over 70%) states a definite preference for having their food delivered, rather than having to pick it up or dine in. he predicted that over the next few years, this number is only expected to go up as the next generation comes along. How restaurant meals to the home are undergoing rapid change as new online platforms, but no matter what kind of delivery applications, we all need to design model to optimize the interests of the customer and restaurant so that maximization the profit is what our team consider.\n",
    "\n",
    "In our project, we use mixed-integer programming (MIP) model to optimize the delivery schedule of restaurants and we also wite an algorithm to brute force the solution. From the restaurant to each customer’s home, we will try to get a best route to achieve profit maximization, which means we will minimize total cost (fuel cost and dish cost) and maximize the revenue (tips) as far as possible. Real data would be our pursuit, but since the data is hard to acquire, so we randomly generate data including time of delivery, dishes required, coordinate of delivery destination and tips, etc.\n",
    "\n",
    "There are three different examples with the general setting in our project to optimize the profit:\n",
    "1. Brute force:\n",
    "2. Vehicle routing:\n",
    "3. Traveling salesman problem:"
   ]
  },
  {
   "cell_type": "markdown",
   "metadata": {},
   "source": [
    "## 2. Mathematical model ##"
   ]
  },
  {
   "cell_type": "markdown",
   "metadata": {},
   "source": [
    "### 2.A. Brute force example ###"
   ]
  },
  {
   "cell_type": "markdown",
   "metadata": {},
   "source": [
    "### 2.B. Vehicle routing exmaple ###"
   ]
  },
  {
   "cell_type": "markdown",
   "metadata": {},
   "source": [
    "### 2.C. Traveling salesman problem ###"
   ]
  },
  {
   "cell_type": "markdown",
   "metadata": {},
   "source": [
    "## 3. Solution ##\n",
    "\n"
   ]
  },
  {
   "cell_type": "markdown",
   "metadata": {},
   "source": [
    "### 3.A. Implementation for brute force###"
   ]
  },
  {
   "cell_type": "markdown",
   "metadata": {},
   "source": [
    "### 3.B. Implementation for vehicle routing ###"
   ]
  },
  {
   "cell_type": "markdown",
   "metadata": {},
   "source": [
    "### 3.C. Implementation for TSP ##"
   ]
  },
  {
   "cell_type": "markdown",
   "metadata": {},
   "source": [
    "## 4. Results and discussion ##\n",
    "\n"
   ]
  },
  {
   "cell_type": "markdown",
   "metadata": {},
   "source": [
    "## 5. Conclusion ##\n",
    "\n"
   ]
  }
 ],
 "metadata": {
  "kernelspec": {
   "display_name": "Julia 0.6.3",
   "language": "julia",
   "name": "julia-0.6"
  },
  "language_info": {
   "file_extension": ".jl",
   "mimetype": "application/julia",
   "name": "julia",
   "version": "0.6.3"
  }
 },
 "nbformat": 4,
 "nbformat_minor": 2
}
